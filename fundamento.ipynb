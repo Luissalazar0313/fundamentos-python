{
 "cells": [
  {
   "cell_type": "markdown",
   "id": "d5046aee",
   "metadata": {},
   "source": [
    "# Fundamentos de python\n",
    "\n",
    "* Variables \n",
    "* Operadores matemáticos\n",
    "* Operadores lógicos \n",
    "* Operadores de comparación\n",
    "* Condicionales  \n",
    "   - Simples   \n",
    "   - Compuestos    \n",
    "   - Anidados    \n",
    "   - Encadenados\n",
    "* Ciclos\n",
    "    - Finitos (for)\n",
    "    - Infinitos (while)\n",
    "* Funciones\n",
    "* estructuras de datos\n",
    "    - Caracteres\n",
    "    - Enteros\n",
    "    - Flotantes\n",
    "    - Listas\n",
    "    - Diccionarios\n",
    "    - Tuplas\n",
    "* Fundamentos de POO"
   ]
  },
  {
   "cell_type": "code",
   "execution_count": 1,
   "id": "5eaf13c2",
   "metadata": {},
   "outputs": [
    {
     "name": "stdout",
     "output_type": "stream",
     "text": [
      "epale\n"
     ]
    }
   ],
   "source": [
    "print(\"epale\")"
   ]
  },
  {
   "cell_type": "code",
   "execution_count": 2,
   "id": "49b0dd81",
   "metadata": {},
   "outputs": [],
   "source": [
    "# variables\n",
    "name = \"Javier\" "
   ]
  },
  {
   "cell_type": "code",
   "execution_count": 3,
   "id": "1682a4d7",
   "metadata": {},
   "outputs": [
    {
     "data": {
      "text/plain": [
       "'Javier'"
      ]
     },
     "execution_count": 3,
     "metadata": {},
     "output_type": "execute_result"
    }
   ],
   "source": [
    "name"
   ]
  },
  {
   "cell_type": "code",
   "execution_count": 4,
   "id": "3536c485",
   "metadata": {},
   "outputs": [],
   "source": [
    "last_name = \"Gonzalez\""
   ]
  },
  {
   "cell_type": "code",
   "execution_count": 5,
   "id": "4b19bf65",
   "metadata": {},
   "outputs": [
    {
     "data": {
      "text/plain": [
       "'Gonzalez'"
      ]
     },
     "execution_count": 5,
     "metadata": {},
     "output_type": "execute_result"
    }
   ],
   "source": [
    "last_name"
   ]
  },
  {
   "cell_type": "code",
   "execution_count": 6,
   "id": "8bb54362",
   "metadata": {},
   "outputs": [],
   "source": [
    "# operadores matematicos\n",
    "suma = 2 + 2 \n",
    "resta = 2 - 2\n",
    "multiplicación = 2 * 2\n",
    "division = 2 / 2"
   ]
  },
  {
   "cell_type": "code",
   "execution_count": 8,
   "id": "02ffa85e",
   "metadata": {},
   "outputs": [
    {
     "name": "stdout",
     "output_type": "stream",
     "text": [
      "4\n",
      "0\n"
     ]
    }
   ],
   "source": [
    "print(suma)\n",
    "print(resta)"
   ]
  },
  {
   "cell_type": "code",
   "execution_count": 9,
   "id": "f9e07ddc",
   "metadata": {},
   "outputs": [
    {
     "name": "stdout",
     "output_type": "stream",
     "text": [
      "el resultado de la suma es: 4\n",
      "0\n"
     ]
    }
   ],
   "source": [
    "print(f\"el resultado de la suma es: {suma}\")\n",
    "print(resta)"
   ]
  },
  {
   "cell_type": "code",
   "execution_count": 10,
   "id": "e65cdd76",
   "metadata": {},
   "outputs": [],
   "source": [
    "# operadores de comparación\n",
    "# igual a ==\n",
    "# mayor que >\n",
    "# menor que <\n",
    "# mayor o igual que >=\n",
    "# menor o igual que <=\n",
    "# diferente !=\n"
   ]
  },
  {
   "cell_type": "code",
   "execution_count": 11,
   "id": "3752bd67",
   "metadata": {},
   "outputs": [],
   "source": [
    "# condicionales\n",
    "if 1 > 2:\n",
    "    print(\"1 es mayor que 2\")"
   ]
  },
  {
   "cell_type": "code",
   "execution_count": 23,
   "id": "ad568a89",
   "metadata": {},
   "outputs": [],
   "source": [
    "number1 = 14\n",
    "number2 = 12.30"
   ]
  },
  {
   "cell_type": "code",
   "execution_count": 16,
   "id": "ddf16cbc",
   "metadata": {},
   "outputs": [],
   "source": [
    "# estructura de datos\n",
    "# strings\n",
    "name = \"josefino\""
   ]
  },
  {
   "cell_type": "code",
   "execution_count": 17,
   "id": "7fa9435b",
   "metadata": {},
   "outputs": [
    {
     "data": {
      "text/plain": [
       "str"
      ]
     },
     "execution_count": 17,
     "metadata": {},
     "output_type": "execute_result"
    }
   ],
   "source": [
    "type(name)"
   ]
  },
  {
   "cell_type": "code",
   "execution_count": 19,
   "id": "0d9967d8",
   "metadata": {},
   "outputs": [
    {
     "data": {
      "text/plain": [
       "'Josefino'"
      ]
     },
     "execution_count": 19,
     "metadata": {},
     "output_type": "execute_result"
    }
   ],
   "source": [
    "name.capitalize()"
   ]
  },
  {
   "cell_type": "code",
   "execution_count": 20,
   "id": "d9bf2dc6",
   "metadata": {},
   "outputs": [
    {
     "data": {
      "text/plain": [
       "int"
      ]
     },
     "execution_count": 20,
     "metadata": {},
     "output_type": "execute_result"
    }
   ],
   "source": [
    "type(number1)\n"
   ]
  },
  {
   "cell_type": "code",
   "execution_count": 24,
   "id": "acbfbb8c",
   "metadata": {},
   "outputs": [
    {
     "data": {
      "text/plain": [
       "float"
      ]
     },
     "execution_count": 24,
     "metadata": {},
     "output_type": "execute_result"
    }
   ],
   "source": [
    "type(number2)"
   ]
  },
  {
   "cell_type": "code",
   "execution_count": 25,
   "id": "77525182",
   "metadata": {},
   "outputs": [],
   "source": [
    "# listas\n",
    "name_list = [\"jose\", \"javier\", \"josefino\", \"josefina\"]"
   ]
  },
  {
   "cell_type": "code",
   "execution_count": 26,
   "id": "762ed7e5",
   "metadata": {},
   "outputs": [],
   "source": [
    "age_list = [20, 30, 40, 50]"
   ]
  },
  {
   "cell_type": "code",
   "execution_count": 27,
   "id": "430aa8e5",
   "metadata": {},
   "outputs": [],
   "source": [
    "name_list.append(\"ruperto\")"
   ]
  },
  {
   "cell_type": "code",
   "execution_count": 28,
   "id": "3cdd6b19",
   "metadata": {},
   "outputs": [
    {
     "data": {
      "text/plain": [
       "['jose', 'javier', 'josefino', 'josefina', 'ruperto']"
      ]
     },
     "execution_count": 28,
     "metadata": {},
     "output_type": "execute_result"
    }
   ],
   "source": [
    "name_list"
   ]
  },
  {
   "cell_type": "code",
   "execution_count": 29,
   "id": "4b6e6d20",
   "metadata": {},
   "outputs": [],
   "source": [
    "age_list = [\n",
    "    23,\n",
    "    32,\n",
    "    45,\n",
    "    50,\n",
    "]"
   ]
  },
  {
   "cell_type": "code",
   "execution_count": 30,
   "id": "a0255054",
   "metadata": {},
   "outputs": [
    {
     "data": {
      "text/plain": [
       "['jose', 'javier', 'josefino', 'josefina', 'ruperto']"
      ]
     },
     "execution_count": 30,
     "metadata": {},
     "output_type": "execute_result"
    }
   ],
   "source": [
    "name_list"
   ]
  },
  {
   "cell_type": "code",
   "execution_count": 31,
   "id": "3eb3ead2",
   "metadata": {},
   "outputs": [
    {
     "data": {
      "text/plain": [
       "'javier'"
      ]
     },
     "execution_count": 31,
     "metadata": {},
     "output_type": "execute_result"
    }
   ],
   "source": [
    "name_list[1]"
   ]
  },
  {
   "cell_type": "code",
   "execution_count": 34,
   "id": "4a8617cb",
   "metadata": {},
   "outputs": [
    {
     "data": {
      "text/plain": [
       "['javier', 'josefino', 'josefina']"
      ]
     },
     "execution_count": 34,
     "metadata": {},
     "output_type": "execute_result"
    }
   ],
   "source": [
    "# slice de una lista\n",
    "name_list[1:4]"
   ]
  },
  {
   "cell_type": "code",
   "execution_count": 35,
   "id": "d30d7b66",
   "metadata": {},
   "outputs": [
    {
     "data": {
      "text/plain": [
       "5"
      ]
     },
     "execution_count": 35,
     "metadata": {},
     "output_type": "execute_result"
    }
   ],
   "source": [
    "len(name_list)"
   ]
  },
  {
   "cell_type": "code",
   "execution_count": 36,
   "id": "8f0b8948",
   "metadata": {},
   "outputs": [
    {
     "name": "stdout",
     "output_type": "stream",
     "text": [
      "jose\n",
      "javier\n",
      "josefino\n",
      "josefina\n",
      "ruperto\n"
     ]
    }
   ],
   "source": [
    "# ciclos finitos\n",
    "for var in name_list:\n",
    "    print(var)"
   ]
  },
  {
   "cell_type": "code",
   "execution_count": 37,
   "id": "7b7546e6",
   "metadata": {},
   "outputs": [
    {
     "name": "stdout",
     "output_type": "stream",
     "text": [
      "jose\n",
      "javier\n",
      "josefino\n",
      "josefina\n",
      "ruperto\n"
     ]
    }
   ],
   "source": [
    "for name in name_list:\n",
    "    print(name)"
   ]
  },
  {
   "cell_type": "code",
   "execution_count": 39,
   "id": "8c9129ac",
   "metadata": {},
   "outputs": [
    {
     "name": "stdout",
     "output_type": "stream",
     "text": [
      "4\n"
     ]
    }
   ],
   "source": [
    "for name in name_list:\n",
    "    if name == \"ruperto\":\n",
    "        # imprime la posicion de la lista\n",
    "        print(name_list.index(name))"
   ]
  },
  {
   "cell_type": "code",
   "execution_count": 40,
   "id": "9d85ab84",
   "metadata": {},
   "outputs": [
    {
     "name": "stdout",
     "output_type": "stream",
     "text": [
      "hola\n",
      "hola\n",
      "hola\n",
      "hola\n"
     ]
    }
   ],
   "source": [
    "# recorrido de una lista por indices\n",
    "for item in range(4):\n",
    "    print(\"hola\")"
   ]
  },
  {
   "cell_type": "code",
   "execution_count": 41,
   "id": "e07b0f9b",
   "metadata": {},
   "outputs": [
    {
     "name": "stdout",
     "output_type": "stream",
     "text": [
      "0\n",
      "1\n",
      "2\n",
      "3\n",
      "4\n"
     ]
    }
   ],
   "source": [
    "# recorrido de una lista por indices\n",
    "for item in range(len(name_list)):\n",
    "    print(item)"
   ]
  },
  {
   "cell_type": "code",
   "execution_count": 42,
   "id": "7959e9ec",
   "metadata": {},
   "outputs": [
    {
     "name": "stdout",
     "output_type": "stream",
     "text": [
      "jose\n",
      "javier\n",
      "josefino\n",
      "josefina\n",
      "ruperto\n"
     ]
    }
   ],
   "source": [
    "# recorrido de una lista por indices\n",
    "for item in range(len(name_list)):\n",
    "    print(name_list[item])"
   ]
  },
  {
   "cell_type": "code",
   "execution_count": 43,
   "id": "214b959e",
   "metadata": {},
   "outputs": [
    {
     "name": "stdout",
     "output_type": "stream",
     "text": [
      "ruperto\n",
      "4\n"
     ]
    }
   ],
   "source": [
    "# recorrido de una lista por indices\n",
    "for item in range(len(name_list)):\n",
    "    if name_list[item] == \"ruperto\":\n",
    "        # imprime la posicion de la lista\n",
    "        print(name_list[item])\n",
    "        print(item)"
   ]
  },
  {
   "cell_type": "code",
   "execution_count": null,
   "id": "898df567",
   "metadata": {},
   "outputs": [],
   "source": []
  }
 ],
 "metadata": {
  "kernelspec": {
   "display_name": "Python 3",
   "language": "python",
   "name": "python3"
  },
  "language_info": {
   "codemirror_mode": {
    "name": "ipython",
    "version": 3
   },
   "file_extension": ".py",
   "mimetype": "text/x-python",
   "name": "python",
   "nbconvert_exporter": "python",
   "pygments_lexer": "ipython3",
   "version": "3.13.3"
  }
 },
 "nbformat": 4,
 "nbformat_minor": 5
}
