{
 "cells": [
  {
   "cell_type": "markdown",
   "id": "d5046aee",
   "metadata": {},
   "source": [
    "# Fundamentos de python\n",
    "\n",
    "* Variables \n",
    "* Operadores matemáticos\n",
    "* Operadores lógicos \n",
    "* Operadores de comparación\n",
    "* Condicionales  \n",
    "   - Simples   \n",
    "   - Compuestos    \n",
    "   - Anidados    \n",
    "   - Encadenados\n",
    "* Ciclos\n",
    "    - Finitos (for)\n",
    "    - Infinitos (while)\n",
    "* Funciones\n",
    "* estructuras de datos\n",
    "    - Caracteres\n",
    "    - Enteros\n",
    "    - Flotantes\n",
    "    - Listas\n",
    "    - Diccionarios\n",
    "    - Tuplas\n",
    "* Fundamentos de POO"
   ]
  },
  {
   "cell_type": "code",
   "execution_count": 1,
   "id": "5eaf13c2",
   "metadata": {},
   "outputs": [
    {
     "name": "stdout",
     "output_type": "stream",
     "text": [
      "epale\n"
     ]
    }
   ],
   "source": [
    "print(\"epale\")"
   ]
  },
  {
   "cell_type": "code",
   "execution_count": 2,
   "id": "49b0dd81",
   "metadata": {},
   "outputs": [],
   "source": [
    "# variables\n",
    "name = \"Javier\" "
   ]
  },
  {
   "cell_type": "code",
   "execution_count": 3,
   "id": "1682a4d7",
   "metadata": {},
   "outputs": [
    {
     "data": {
      "text/plain": [
       "'Javier'"
      ]
     },
     "execution_count": 3,
     "metadata": {},
     "output_type": "execute_result"
    }
   ],
   "source": [
    "name"
   ]
  },
  {
   "cell_type": "code",
   "execution_count": 4,
   "id": "3536c485",
   "metadata": {},
   "outputs": [],
   "source": [
    "last_name = \"Gonzalez\""
   ]
  },
  {
   "cell_type": "code",
   "execution_count": 5,
   "id": "4b19bf65",
   "metadata": {},
   "outputs": [
    {
     "data": {
      "text/plain": [
       "'Gonzalez'"
      ]
     },
     "execution_count": 5,
     "metadata": {},
     "output_type": "execute_result"
    }
   ],
   "source": [
    "last_name"
   ]
  },
  {
   "cell_type": "code",
   "execution_count": 6,
   "id": "8bb54362",
   "metadata": {},
   "outputs": [],
   "source": [
    "# operadores matematicos\n",
    "suma = 2 + 2 \n",
    "resta = 2 - 2\n",
    "multiplicación = 2 * 2\n",
    "division = 2 / 2"
   ]
  },
  {
   "cell_type": "code",
   "execution_count": 8,
   "id": "02ffa85e",
   "metadata": {},
   "outputs": [
    {
     "name": "stdout",
     "output_type": "stream",
     "text": [
      "4\n",
      "0\n"
     ]
    }
   ],
   "source": [
    "print(suma)\n",
    "print(resta)"
   ]
  },
  {
   "cell_type": "code",
   "execution_count": 9,
   "id": "f9e07ddc",
   "metadata": {},
   "outputs": [
    {
     "name": "stdout",
     "output_type": "stream",
     "text": [
      "el resultado de la suma es: 4\n",
      "0\n"
     ]
    }
   ],
   "source": [
    "print(f\"el resultado de la suma es: {suma}\")\n",
    "print(resta)"
   ]
  },
  {
   "cell_type": "code",
   "execution_count": 10,
   "id": "e65cdd76",
   "metadata": {},
   "outputs": [],
   "source": [
    "# operadores de comparación\n",
    "# igual a ==\n",
    "# mayor que >\n",
    "# menor que <\n",
    "# mayor o igual que >=\n",
    "# menor o igual que <=\n",
    "# diferente !=\n"
   ]
  },
  {
   "cell_type": "code",
   "execution_count": 11,
   "id": "3752bd67",
   "metadata": {},
   "outputs": [],
   "source": [
    "# condicionales\n",
    "if 1 > 2:\n",
    "    print(\"1 es mayor que 2\")"
   ]
  },
  {
   "cell_type": "code",
   "execution_count": 23,
   "id": "ad568a89",
   "metadata": {},
   "outputs": [],
   "source": [
    "number1 = 14\n",
    "number2 = 12.30"
   ]
  },
  {
   "cell_type": "code",
   "execution_count": 16,
   "id": "ddf16cbc",
   "metadata": {},
   "outputs": [],
   "source": [
    "# estructura de datos\n",
    "# strings\n",
    "name = \"josefino\""
   ]
  },
  {
   "cell_type": "code",
   "execution_count": 17,
   "id": "7fa9435b",
   "metadata": {},
   "outputs": [
    {
     "data": {
      "text/plain": [
       "str"
      ]
     },
     "execution_count": 17,
     "metadata": {},
     "output_type": "execute_result"
    }
   ],
   "source": [
    "type(name)"
   ]
  },
  {
   "cell_type": "code",
   "execution_count": 19,
   "id": "0d9967d8",
   "metadata": {},
   "outputs": [
    {
     "data": {
      "text/plain": [
       "'Josefino'"
      ]
     },
     "execution_count": 19,
     "metadata": {},
     "output_type": "execute_result"
    }
   ],
   "source": [
    "name.capitalize()"
   ]
  },
  {
   "cell_type": "code",
   "execution_count": 20,
   "id": "d9bf2dc6",
   "metadata": {},
   "outputs": [
    {
     "data": {
      "text/plain": [
       "int"
      ]
     },
     "execution_count": 20,
     "metadata": {},
     "output_type": "execute_result"
    }
   ],
   "source": [
    "type(number1)\n"
   ]
  },
  {
   "cell_type": "code",
   "execution_count": 24,
   "id": "acbfbb8c",
   "metadata": {},
   "outputs": [
    {
     "data": {
      "text/plain": [
       "float"
      ]
     },
     "execution_count": 24,
     "metadata": {},
     "output_type": "execute_result"
    }
   ],
   "source": [
    "type(number2)"
   ]
  },
  {
   "cell_type": "code",
   "execution_count": 25,
   "id": "77525182",
   "metadata": {},
   "outputs": [],
   "source": [
    "# listas\n",
    "name_list = [\"jose\", \"javier\", \"josefino\", \"josefina\"]"
   ]
  },
  {
   "cell_type": "code",
   "execution_count": 26,
   "id": "762ed7e5",
   "metadata": {},
   "outputs": [],
   "source": [
    "age_list = [20, 30, 40, 50]"
   ]
  },
  {
   "cell_type": "code",
   "execution_count": 27,
   "id": "430aa8e5",
   "metadata": {},
   "outputs": [],
   "source": [
    "name_list.append(\"ruperto\")"
   ]
  },
  {
   "cell_type": "code",
   "execution_count": 28,
   "id": "3cdd6b19",
   "metadata": {},
   "outputs": [
    {
     "data": {
      "text/plain": [
       "['jose', 'javier', 'josefino', 'josefina', 'ruperto']"
      ]
     },
     "execution_count": 28,
     "metadata": {},
     "output_type": "execute_result"
    }
   ],
   "source": [
    "name_list"
   ]
  },
  {
   "cell_type": "code",
   "execution_count": 29,
   "id": "4b6e6d20",
   "metadata": {},
   "outputs": [],
   "source": [
    "age_list = [\n",
    "    23,\n",
    "    32,\n",
    "    45,\n",
    "    50,\n",
    "]"
   ]
  },
  {
   "cell_type": "code",
   "execution_count": 30,
   "id": "a0255054",
   "metadata": {},
   "outputs": [
    {
     "data": {
      "text/plain": [
       "['jose', 'javier', 'josefino', 'josefina', 'ruperto']"
      ]
     },
     "execution_count": 30,
     "metadata": {},
     "output_type": "execute_result"
    }
   ],
   "source": [
    "name_list"
   ]
  },
  {
   "cell_type": "code",
   "execution_count": 31,
   "id": "3eb3ead2",
   "metadata": {},
   "outputs": [
    {
     "data": {
      "text/plain": [
       "'javier'"
      ]
     },
     "execution_count": 31,
     "metadata": {},
     "output_type": "execute_result"
    }
   ],
   "source": [
    "name_list[1]"
   ]
  },
  {
   "cell_type": "code",
   "execution_count": 34,
   "id": "4a8617cb",
   "metadata": {},
   "outputs": [
    {
     "data": {
      "text/plain": [
       "['javier', 'josefino', 'josefina']"
      ]
     },
     "execution_count": 34,
     "metadata": {},
     "output_type": "execute_result"
    }
   ],
   "source": [
    "# slice de una lista\n",
    "name_list[1:4]"
   ]
  },
  {
   "cell_type": "code",
   "execution_count": 35,
   "id": "d30d7b66",
   "metadata": {},
   "outputs": [
    {
     "data": {
      "text/plain": [
       "5"
      ]
     },
     "execution_count": 35,
     "metadata": {},
     "output_type": "execute_result"
    }
   ],
   "source": [
    "len(name_list)"
   ]
  },
  {
   "cell_type": "code",
   "execution_count": 36,
   "id": "8f0b8948",
   "metadata": {},
   "outputs": [
    {
     "name": "stdout",
     "output_type": "stream",
     "text": [
      "jose\n",
      "javier\n",
      "josefino\n",
      "josefina\n",
      "ruperto\n"
     ]
    }
   ],
   "source": [
    "# ciclos finitos\n",
    "for var in name_list:\n",
    "    print(var)"
   ]
  },
  {
   "cell_type": "code",
   "execution_count": 37,
   "id": "7b7546e6",
   "metadata": {},
   "outputs": [
    {
     "name": "stdout",
     "output_type": "stream",
     "text": [
      "jose\n",
      "javier\n",
      "josefino\n",
      "josefina\n",
      "ruperto\n"
     ]
    }
   ],
   "source": [
    "for name in name_list:\n",
    "    print(name)"
   ]
  },
  {
   "cell_type": "code",
   "execution_count": 39,
   "id": "8c9129ac",
   "metadata": {},
   "outputs": [
    {
     "name": "stdout",
     "output_type": "stream",
     "text": [
      "4\n"
     ]
    }
   ],
   "source": [
    "for name in name_list:\n",
    "    if name == \"ruperto\":\n",
    "        # imprime la posicion de la lista\n",
    "        print(name_list.index(name))"
   ]
  },
  {
   "cell_type": "code",
   "execution_count": 40,
   "id": "9d85ab84",
   "metadata": {},
   "outputs": [
    {
     "name": "stdout",
     "output_type": "stream",
     "text": [
      "hola\n",
      "hola\n",
      "hola\n",
      "hola\n"
     ]
    }
   ],
   "source": [
    "# recorrido de una lista por indices\n",
    "for item in range(4):\n",
    "    print(\"hola\")"
   ]
  },
  {
   "cell_type": "code",
   "execution_count": 41,
   "id": "e07b0f9b",
   "metadata": {},
   "outputs": [
    {
     "name": "stdout",
     "output_type": "stream",
     "text": [
      "0\n",
      "1\n",
      "2\n",
      "3\n",
      "4\n"
     ]
    }
   ],
   "source": [
    "# recorrido de una lista por indices\n",
    "for item in range(len(name_list)):\n",
    "    print(item)"
   ]
  },
  {
   "cell_type": "code",
   "execution_count": 42,
   "id": "7959e9ec",
   "metadata": {},
   "outputs": [
    {
     "name": "stdout",
     "output_type": "stream",
     "text": [
      "jose\n",
      "javier\n",
      "josefino\n",
      "josefina\n",
      "ruperto\n"
     ]
    }
   ],
   "source": [
    "# recorrido de una lista por indices\n",
    "for item in range(len(name_list)):\n",
    "    print(name_list[item])"
   ]
  },
  {
   "cell_type": "code",
   "execution_count": 43,
   "id": "214b959e",
   "metadata": {},
   "outputs": [
    {
     "name": "stdout",
     "output_type": "stream",
     "text": [
      "ruperto\n",
      "4\n"
     ]
    }
   ],
   "source": [
    "# recorrido de una lista por indices\n",
    "for item in range(len(name_list)):\n",
    "    if name_list[item] == \"ruperto\":\n",
    "        # imprime la posicion de la lista\n",
    "        print(name_list[item])\n",
    "        print(item)"
   ]
  },
  {
   "cell_type": "markdown",
   "id": "898df567",
   "metadata": {},
   "source": [
    "### Funciones en Python"
   ]
  },
  {
   "cell_type": "code",
   "execution_count": 1,
   "id": "ff3e8da8",
   "metadata": {},
   "outputs": [],
   "source": [
    "### Funciones en python"
   ]
  },
  {
   "cell_type": "code",
   "execution_count": 2,
   "id": "03ad4e0b",
   "metadata": {},
   "outputs": [],
   "source": [
    "def saludos():\n",
    "    print(\"hola\")"
   ]
  },
  {
   "cell_type": "code",
   "execution_count": 3,
   "id": "45958d1f",
   "metadata": {},
   "outputs": [
    {
     "name": "stdout",
     "output_type": "stream",
     "text": [
      "hola\n"
     ]
    }
   ],
   "source": [
    "saludos()"
   ]
  },
  {
   "cell_type": "code",
   "execution_count": 8,
   "id": "da303c66",
   "metadata": {},
   "outputs": [],
   "source": [
    "# funcion que saluda a un nombre\n",
    "def saludos(name):\n",
    "    print(f\"hola {name}\")\n"
   ]
  },
  {
   "cell_type": "code",
   "execution_count": 9,
   "id": "db7d0788",
   "metadata": {},
   "outputs": [
    {
     "name": "stdout",
     "output_type": "stream",
     "text": [
      "hola miguel herrera\n"
     ]
    }
   ],
   "source": [
    "saludos(\"miguel herrera\")"
   ]
  },
  {
   "cell_type": "code",
   "execution_count": 10,
   "id": "9f762278",
   "metadata": {},
   "outputs": [],
   "source": [
    "# funcion que suma dos numeros\n",
    "def suma(number1, number2):\n",
    "    return number1 + number2"
   ]
  },
  {
   "cell_type": "code",
   "execution_count": 11,
   "id": "e89ce049",
   "metadata": {},
   "outputs": [
    {
     "data": {
      "text/plain": [
       "<function __main__.suma(number1, number2)>"
      ]
     },
     "execution_count": 11,
     "metadata": {},
     "output_type": "execute_result"
    }
   ],
   "source": [
    "suma"
   ]
  },
  {
   "cell_type": "code",
   "execution_count": 12,
   "id": "085026ed",
   "metadata": {},
   "outputs": [],
   "source": [
    "# funcio para calcular la altura de un triangulo\n",
    "def area_triangulo(base, altura):\n",
    "    return (base * altura) / 2"
   ]
  },
  {
   "cell_type": "code",
   "execution_count": 13,
   "id": "053bab6e",
   "metadata": {},
   "outputs": [
    {
     "data": {
      "text/plain": [
       "25.0"
      ]
     },
     "execution_count": 13,
     "metadata": {},
     "output_type": "execute_result"
    }
   ],
   "source": [
    "area_triangulo(10, 5)"
   ]
  },
  {
   "cell_type": "code",
   "execution_count": 14,
   "id": "bffc44a3",
   "metadata": {},
   "outputs": [
    {
     "data": {
      "text/plain": [
       "25.0"
      ]
     },
     "execution_count": 14,
     "metadata": {},
     "output_type": "execute_result"
    }
   ],
   "source": [
    "area_triangulo(base=10, altura=5)"
   ]
  },
  {
   "cell_type": "code",
   "execution_count": 15,
   "id": "37f2cde4",
   "metadata": {},
   "outputs": [
    {
     "data": {
      "text/plain": [
       "25.0"
      ]
     },
     "execution_count": 15,
     "metadata": {},
     "output_type": "execute_result"
    }
   ],
   "source": [
    "area_triangulo(altura=5, base=10)"
   ]
  },
  {
   "cell_type": "code",
   "execution_count": 16,
   "id": "3bb01ed0",
   "metadata": {},
   "outputs": [],
   "source": [
    "# funcion con argumentos por defecto\n",
    "def area_triangulo(base=10, altura=5):\n",
    "    return (base * altura) / 2"
   ]
  },
  {
   "cell_type": "code",
   "execution_count": 18,
   "id": "f5e45211",
   "metadata": {},
   "outputs": [
    {
     "data": {
      "text/plain": [
       "25.0"
      ]
     },
     "execution_count": 18,
     "metadata": {},
     "output_type": "execute_result"
    }
   ],
   "source": [
    "area_triangulo(10, 5)"
   ]
  },
  {
   "cell_type": "code",
   "execution_count": 19,
   "id": "2cc85d9c",
   "metadata": {},
   "outputs": [],
   "source": [
    "# documentacion de funciones\n",
    "def area_triangulo3(base=10, altura=5):\n",
    "    \"\"\"\n",
    "    Esta funcion calcula el area de un triangulo\n",
    "    :param base: base del triangulo\n",
    "    :param altura: altura del triangulo\n",
    "    :return: area del triangulo\n",
    "    \"\"\"\n",
    "    return (base * altura) / 2"
   ]
  },
  {
   "cell_type": "code",
   "execution_count": 20,
   "id": "fe91ad3f",
   "metadata": {},
   "outputs": [
    {
     "data": {
      "text/plain": [
       "25.0"
      ]
     },
     "execution_count": 20,
     "metadata": {},
     "output_type": "execute_result"
    }
   ],
   "source": [
    "area_triangulo3(10, 5)"
   ]
  },
  {
   "cell_type": "code",
   "execution_count": 21,
   "id": "cc5da398",
   "metadata": {},
   "outputs": [],
   "source": [
    "# documentacion de funciones\n",
    "def area_triangulo4(base:float, altura:float) -> float:\n",
    "    \"\"\"\n",
    "    Esta funcion calcula el area de un triangulo\n",
    "    :param base: base del triangulo float o int\n",
    "    :param altura: altura del triangulo float o int\n",
    "    :return: area del triangulo float\n",
    "    \"\"\"\n",
    "    return (base * altura) / 2"
   ]
  },
  {
   "cell_type": "code",
   "execution_count": 22,
   "id": "f2cf2d98",
   "metadata": {},
   "outputs": [
    {
     "data": {
      "text/plain": [
       "25.0"
      ]
     },
     "execution_count": 22,
     "metadata": {},
     "output_type": "execute_result"
    }
   ],
   "source": [
    "area_triangulo4(10, 5)"
   ]
  },
  {
   "cell_type": "code",
   "execution_count": 24,
   "id": "d9940eac",
   "metadata": {},
   "outputs": [
    {
     "data": {
      "text/plain": [
       "6.875"
      ]
     },
     "execution_count": 24,
     "metadata": {},
     "output_type": "execute_result"
    }
   ],
   "source": [
    "area_triangulo4(2.5, 5.5)"
   ]
  },
  {
   "cell_type": "markdown",
   "id": "36291696",
   "metadata": {},
   "source": [
    "### Diccionarios"
   ]
  },
  {
   "cell_type": "code",
   "execution_count": null,
   "id": "1736374e",
   "metadata": {},
   "outputs": [],
   "source": [
    "# diccionarios de clave:valor\n",
    "name_dict = {\n",
    "    \"name\": \"javier\",\n",
    "    \"last_name\": \"gonzalez\",\n",
    "    \"age\": 30,\n",
    "    \"altura\": 1.80,\n",
    "}"
   ]
  },
  {
   "cell_type": "code",
   "execution_count": 29,
   "id": "31e5933f",
   "metadata": {},
   "outputs": [],
   "source": [
    "name_list = [\"javier\", \"Gonzalez\", 30, 1.80]"
   ]
  },
  {
   "cell_type": "code",
   "execution_count": 28,
   "id": "2917eb60",
   "metadata": {},
   "outputs": [],
   "source": [
    "name_list.append(\"javier\")"
   ]
  },
  {
   "cell_type": "code",
   "execution_count": 30,
   "id": "6c7520e1",
   "metadata": {},
   "outputs": [
    {
     "data": {
      "text/plain": [
       "'javier'"
      ]
     },
     "execution_count": 30,
     "metadata": {},
     "output_type": "execute_result"
    }
   ],
   "source": [
    "name_list[0]"
   ]
  },
  {
   "cell_type": "code",
   "execution_count": 31,
   "id": "88f0d604",
   "metadata": {},
   "outputs": [
    {
     "data": {
      "text/plain": [
       "1.8"
      ]
     },
     "execution_count": 31,
     "metadata": {},
     "output_type": "execute_result"
    }
   ],
   "source": [
    "name_dict[\"altura\"]"
   ]
  },
  {
   "cell_type": "code",
   "execution_count": 32,
   "id": "fde33c8f",
   "metadata": {},
   "outputs": [],
   "source": [
    "# tupla\n",
    "name_tupla = (\"javier\", \n",
    "              \"gonzalez\", \n",
    "              30, \n",
    "              1.80\n",
    "              )"
   ]
  },
  {
   "cell_type": "code",
   "execution_count": 33,
   "id": "da3bc879",
   "metadata": {},
   "outputs": [
    {
     "data": {
      "text/plain": [
       "['javier', 'Gonzalez', 30, 1.8]"
      ]
     },
     "execution_count": 33,
     "metadata": {},
     "output_type": "execute_result"
    }
   ],
   "source": [
    "name_list"
   ]
  },
  {
   "cell_type": "code",
   "execution_count": 35,
   "id": "95cb1b40",
   "metadata": {},
   "outputs": [
    {
     "data": {
      "text/plain": [
       "['manuel', 'Gonzalez', 30, 1.8]"
      ]
     },
     "execution_count": 35,
     "metadata": {},
     "output_type": "execute_result"
    }
   ],
   "source": [
    "name_list[0] = \"manuel\"\n",
    "name_list"
   ]
  },
  {
   "cell_type": "code",
   "execution_count": 36,
   "id": "110bda81",
   "metadata": {},
   "outputs": [
    {
     "data": {
      "text/plain": [
       "'javier'"
      ]
     },
     "execution_count": 36,
     "metadata": {},
     "output_type": "execute_result"
    }
   ],
   "source": [
    "name_tupla[0]"
   ]
  },
  {
   "cell_type": "code",
   "execution_count": 37,
   "id": "e42363f0",
   "metadata": {},
   "outputs": [
    {
     "ename": "TypeError",
     "evalue": "'tuple' object does not support item assignment",
     "output_type": "error",
     "traceback": [
      "\u001b[31m---------------------------------------------------------------------------\u001b[39m",
      "\u001b[31mTypeError\u001b[39m                                 Traceback (most recent call last)",
      "\u001b[36mCell\u001b[39m\u001b[36m \u001b[39m\u001b[32mIn[37]\u001b[39m\u001b[32m, line 1\u001b[39m\n\u001b[32m----> \u001b[39m\u001b[32m1\u001b[39m \u001b[43mname_tupla\u001b[49m\u001b[43m[\u001b[49m\u001b[32;43m0\u001b[39;49m\u001b[43m]\u001b[49m = \u001b[33m\"\u001b[39m\u001b[33mmanuel\u001b[39m\u001b[33m\"\u001b[39m\n",
      "\u001b[31mTypeError\u001b[39m: 'tuple' object does not support item assignment"
     ]
    }
   ],
   "source": [
    "name_tupla[0] = \"manuel\""
   ]
  },
  {
   "cell_type": "code",
   "execution_count": null,
   "id": "62a53f90",
   "metadata": {},
   "outputs": [],
   "source": []
  }
 ],
 "metadata": {
  "kernelspec": {
   "display_name": "Python 3",
   "language": "python",
   "name": "python3"
  },
  "language_info": {
   "codemirror_mode": {
    "name": "ipython",
    "version": 3
   },
   "file_extension": ".py",
   "mimetype": "text/x-python",
   "name": "python",
   "nbconvert_exporter": "python",
   "pygments_lexer": "ipython3",
   "version": "3.13.3"
  }
 },
 "nbformat": 4,
 "nbformat_minor": 5
}
